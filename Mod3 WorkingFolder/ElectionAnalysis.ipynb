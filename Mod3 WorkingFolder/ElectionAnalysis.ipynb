{
 "cells": [
  {
   "cell_type": "code",
   "execution_count": 20,
   "id": "2880151d",
   "metadata": {},
   "outputs": [],
   "source": [
    "# -*- coding: UTF-8 -*-\n",
    "\"\"\"PyPoll Homework Challenge Solution.\"\"\"\n",
    "#Open the data file.\n",
    "# Add our dependencies.\n",
    "import csv\n",
    "import os\n",
    "\n"
   ]
  },
  {
   "cell_type": "code",
   "execution_count": 21,
   "id": "ee680fab",
   "metadata": {},
   "outputs": [],
   "source": [
    "# Add a variable to load a file from a path.\n",
    "file_to_load = os.path.join(\"Resources\", \"election_results.csv\")\n",
    "# Add a variable to save the file to a path.\n",
    "file_to_save = os.path.join(\"analysis\", \"election_analysis.txt\")\n",
    "###Step 2\n",
    "# Initialize a total vote counter.\n",
    "total_votes = 0\n",
    "# Candidate Options and candidate votes.\n",
    "candidate_options = []\n",
    "candidate_votes = {}\n",
    "\n"
   ]
  },
  {
   "cell_type": "code",
   "execution_count": 22,
   "id": "74ef5ac3",
   "metadata": {},
   "outputs": [
    {
     "data": {
      "text/plain": [
       "['Arapahoe', 'Denver', 'Jefferson', 'ElPaso']"
      ]
     },
     "execution_count": 22,
     "metadata": {},
     "output_type": "execute_result"
    }
   ],
   "source": [
    "#3.2.5a\n",
    "# 1: Create a county list and county votes dictionary.\n",
    "countiesList = [\"Arapahoe\", \"Denver\",\"Jefferson\", \"ElPaso\"]\n",
    "countiesList\n",
    "      "
   ]
  },
  {
   "cell_type": "code",
   "execution_count": 23,
   "id": "9de103e2",
   "metadata": {},
   "outputs": [],
   "source": [
    "#3.2.5b / 3.2.7\n",
    "# 1: Create county votes dictionary. key and value.\n",
    "#initialized\n",
    "counties_dict = {}\n"
   ]
  },
  {
   "cell_type": "code",
   "execution_count": 24,
   "id": "bb71ad9e",
   "metadata": {},
   "outputs": [],
   "source": [
    "#3.2.7\n",
    "counties_dict[\"Arapahoe\"] = 422829"
   ]
  },
  {
   "cell_type": "code",
   "execution_count": 25,
   "id": "da69e8e9",
   "metadata": {},
   "outputs": [],
   "source": [
    "#3.2.7\n",
    "counties_dict[\"Denver\"] = 463353"
   ]
  },
  {
   "cell_type": "code",
   "execution_count": 26,
   "id": "41bcbe1b",
   "metadata": {},
   "outputs": [],
   "source": [
    "#3.2.7\n",
    "counties_dict[\"Jefferson\"] = 432438"
   ]
  },
  {
   "cell_type": "code",
   "execution_count": 27,
   "id": "07eeaba7",
   "metadata": {},
   "outputs": [
    {
     "data": {
      "text/plain": [
       "{'Arapahoe': 422829, 'Denver': 463353, 'Jefferson': 432438}"
      ]
     },
     "execution_count": 27,
     "metadata": {},
     "output_type": "execute_result"
    }
   ],
   "source": [
    "counties_dict"
   ]
  },
  {
   "cell_type": "code",
   "execution_count": 28,
   "id": "0d4e8125",
   "metadata": {},
   "outputs": [
    {
     "data": {
      "text/plain": [
       "dict_items([('Arapahoe', 422829), ('Denver', 463353), ('Jefferson', 432438)])"
      ]
     },
     "execution_count": 28,
     "metadata": {},
     "output_type": "execute_result"
    }
   ],
   "source": [
    "counties_dict.items()"
   ]
  },
  {
   "cell_type": "code",
   "execution_count": 29,
   "id": "466f1050",
   "metadata": {},
   "outputs": [
    {
     "data": {
      "text/plain": [
       "dict_keys(['Arapahoe', 'Denver', 'Jefferson'])"
      ]
     },
     "execution_count": 29,
     "metadata": {},
     "output_type": "execute_result"
    }
   ],
   "source": [
    "counties_dict.keys() "
   ]
  },
  {
   "cell_type": "code",
   "execution_count": 30,
   "id": "cce68adb",
   "metadata": {},
   "outputs": [
    {
     "data": {
      "text/plain": [
       "dict_values([422829, 463353, 432438])"
      ]
     },
     "execution_count": 30,
     "metadata": {},
     "output_type": "execute_result"
    }
   ],
   "source": [
    "counties_dict.values()"
   ]
  },
  {
   "cell_type": "code",
   "execution_count": 31,
   "id": "192ff81c",
   "metadata": {},
   "outputs": [
    {
     "data": {
      "text/plain": [
       "463353"
      ]
     },
     "execution_count": 31,
     "metadata": {},
     "output_type": "execute_result"
    }
   ],
   "source": [
    "counties_dict.get(\"Denver\")"
   ]
  },
  {
   "cell_type": "code",
   "execution_count": 32,
   "id": "c2439837",
   "metadata": {},
   "outputs": [],
   "source": [
    "# Track the winning candidate, vote count and percentage. Code given\n",
    "winning_candidate = \"\"\n",
    "winning_count = 0\n",
    "winning_percentage = 0"
   ]
  },
  {
   "cell_type": "code",
   "execution_count": 33,
   "id": "caf54910",
   "metadata": {},
   "outputs": [],
   "source": [
    "# 3.2.5\n",
    "#>>> countiesList[0]"
   ]
  },
  {
   "cell_type": "code",
   "execution_count": 34,
   "id": "d506c029",
   "metadata": {},
   "outputs": [
    {
     "data": {
      "text/plain": [
       "4"
      ]
     },
     "execution_count": 34,
     "metadata": {},
     "output_type": "execute_result"
    }
   ],
   "source": [
    ">>> len(countiesList)\n"
   ]
  },
  {
   "cell_type": "code",
   "execution_count": null,
   "id": "9f18e9f4",
   "metadata": {},
   "outputs": [],
   "source": []
  },
  {
   "cell_type": "code",
   "execution_count": 35,
   "id": "69f72c6a",
   "metadata": {},
   "outputs": [
    {
     "ename": "FileNotFoundError",
     "evalue": "[Errno 2] No such file or directory: 'Resources\\\\election_results.csv'",
     "output_type": "error",
     "traceback": [
      "\u001b[1;31m---------------------------------------------------------------------------\u001b[0m",
      "\u001b[1;31mFileNotFoundError\u001b[0m                         Traceback (most recent call last)",
      "\u001b[1;32m<ipython-input-35-5e26da47148d>\u001b[0m in \u001b[0;36m<module>\u001b[1;34m\u001b[0m\n\u001b[0;32m      1\u001b[0m \u001b[1;31m# Read the csv and convert it into a list of dictionaries\u001b[0m\u001b[1;33m\u001b[0m\u001b[1;33m\u001b[0m\u001b[1;33m\u001b[0m\u001b[0m\n\u001b[1;32m----> 2\u001b[1;33m \u001b[1;32mwith\u001b[0m \u001b[0mopen\u001b[0m\u001b[1;33m(\u001b[0m\u001b[0mfile_to_load\u001b[0m\u001b[1;33m)\u001b[0m \u001b[1;32mas\u001b[0m \u001b[0melection_data\u001b[0m\u001b[1;33m:\u001b[0m\u001b[1;33m\u001b[0m\u001b[1;33m\u001b[0m\u001b[0m\n\u001b[0m\u001b[0;32m      3\u001b[0m     \u001b[0mreader\u001b[0m \u001b[1;33m=\u001b[0m \u001b[0mcsv\u001b[0m\u001b[1;33m.\u001b[0m\u001b[0mreader\u001b[0m\u001b[1;33m(\u001b[0m\u001b[0melection_data\u001b[0m\u001b[1;33m)\u001b[0m\u001b[1;33m\u001b[0m\u001b[1;33m\u001b[0m\u001b[0m\n\u001b[0;32m      4\u001b[0m \u001b[1;33m\u001b[0m\u001b[0m\n\u001b[0;32m      5\u001b[0m     \u001b[1;31m# Read the header\u001b[0m\u001b[1;33m\u001b[0m\u001b[1;33m\u001b[0m\u001b[1;33m\u001b[0m\u001b[0m\n",
      "\u001b[1;31mFileNotFoundError\u001b[0m: [Errno 2] No such file or directory: 'Resources\\\\election_results.csv'"
     ]
    }
   ],
   "source": [
    "# Read the csv and convert it into a list of dictionaries\n",
    "with open(file_to_load) as election_data:\n",
    "    reader = csv.reader(election_data)\n",
    "\n",
    "    # Read the header\n",
    "    header = next(reader)\n",
    "\n",
    "    # For each row in the CSV file.\n",
    "    for row in reader:\n",
    "\n",
    "        # Add to the total vote count\n",
    "        total_votes = total_votes + 1\n",
    "\n",
    "        # Get the candidate name from each row.\n",
    "        candidate_name = row[2]\n",
    "        "
   ]
  },
  {
   "cell_type": "code",
   "execution_count": 17,
   "id": "4f95aec4",
   "metadata": {},
   "outputs": [
    {
     "data": {
      "text/plain": [
       "{'Arapahoe': 422829, 'Denver': 463353, 'Jefferson': 432438}"
      ]
     },
     "execution_count": 17,
     "metadata": {},
     "output_type": "execute_result"
    }
   ],
   "source": [
    "# 2: Track the largest county and county voter turnout.\n",
    "#To get all the keys and values printed to the screen, simply print the dictionary name. \n",
    "#To get all the keys and values printed to the screen, simply print the dictionary name.\n",
    "    \n",
    "counties_dict"
   ]
  },
  {
   "cell_type": "code",
   "execution_count": null,
   "id": "b1fe56e2",
   "metadata": {},
   "outputs": [],
   "source": [
    "# 3: Extract the county name from each row.\n",
    "#run and well --- nope. Hmm\n",
    "##initialize Initialize an empty string, like winning_candidate, \n",
    "#that will hold the county name for the county with the largest turnout.\n",
    "    #run and well --- nope. Hmm\n",
    "        ##initialize Initialize an empty string, like winning_candidate, \n",
    "        #that will hold the county name for the county with the largest turnout.\n",
    "\n",
    "        # If the candidate does not match any existing candidate add it to\n",
    "        # the candidate list\n",
    "        if candidate_name not in candidate_options:\n",
    "\n",
    "            # Add the candidate name to the candidate list.\n",
    "            candidate_options.append(candidate_name)\n",
    "\n",
    "            # And begin tracking that candidate's voter count.\n",
    "            candidate_votes[candidate_name] = 0\n",
    "\n",
    "        # Add a vote to that candidate's count\n",
    "        candidate_votes[candidate_name] += 1\n",
    "\n",
    "        "
   ]
  },
  {
   "cell_type": "code",
   "execution_count": null,
   "id": "bf10c425",
   "metadata": {},
   "outputs": [],
   "source": [
    "# 4a: Write an if statement that checks that the\n",
    "        # county does not match any existing county in the county list.\n",
    "\n",
    "\n",
    "            # 4b: Add the existing county to the list of counties.\n",
    "\n",
    "\n",
    "            # 4c: Begin tracking the county's vote count.\n",
    "            #3.2.11 Write print statements using f-strings\n",
    "                #When writing an algorithm that performs the same task over and over, \n",
    "                #it's a lot easier to write the code for the algorithm once, \n",
    "                #and then place that algorithm in a repetition structure \n",
    "                #that can be repeated as many times as necessary.\n",
    "                #this will be required for the RTM.\n",
    "                    #for loops == a req uired number of times.\n",
    "                    #while loops uses a T/F condition \n",
    "                        #X=0\n",
    "                        #while x,=5:\n",
    "                        #print(x)\n",
    "                        #x=x+1"
   ]
  },
  {
   "cell_type": "code",
   "execution_count": null,
   "id": "c3bf725a",
   "metadata": {},
   "outputs": [],
   "source": []
  },
  {
   "cell_type": "code",
   "execution_count": null,
   "id": "b08f70f2",
   "metadata": {},
   "outputs": [],
   "source": [
    "# 5: Add a vote to that county's vote count.\n",
    "\n",
    "#3.2.9 apply Membership and local operators to decision statements\n",
    "    #Ok`...not sure why this is here. or how to tell if this works. \n",
    "    #Does this list need to be zeroed out?\n",
    "    #Hmm...nope . no output 3.2.7\n",
    "\n",
    "# Save the results to our text file.\n",
    "with open(file_to_save, \"w\") as txt_file:\n",
    "\n",
    "    # Print the final vote count (to terminal)\n",
    "    election_results = (\n",
    "        f\"\\nElection Results\\n\"\n",
    "        f\"-------------------------\\n\"\n",
    "        f\"Total Votes: {total_votes:,}\\n\"\n",
    "        f\"-------------------------\\n\\n\"\n",
    "        f\"County Votes:\\n\")\n",
    "    print(election_results, end=\"\")\n",
    "\n",
    "    txt_file.write(election_results)\n",
    "\n",
    "   "
   ]
  },
  {
   "cell_type": "code",
   "execution_count": null,
   "id": "806803cf",
   "metadata": {},
   "outputs": [],
   "source": [
    " # 6a: Write a for loop to get the county from the county dictionary.\n",
    "\n",
    "        # 6b: Retrieve the county vote count.\n",
    "\n",
    "        # 6c: Calculate the percentage of votes for the county.\n",
    "\n",
    "\n",
    "         # 6d: Print the county results to the terminal.\n",
    "\n",
    "         # 6e: Save the county votes to a text file.\n",
    "\n",
    "         # 6f: Write an if statement to determine the winning county and get its vote count.\n",
    "\n",
    "\n",
    "    "
   ]
  },
  {
   "cell_type": "code",
   "execution_count": null,
   "id": "8c92eca8",
   "metadata": {},
   "outputs": [],
   "source": [
    "# 7: Print the county with the largest turnout to the terminal.\n",
    "\n",
    "\n",
    "    # 8: Save the county with the largest turnout to a text file.\n",
    "    ##How many votes did you get? thinking to add candidate names here.\n",
    "    #my_votes = int(input(\"How many votes did you get in the election? \"))\n",
    "    #Total votes in the election\n",
    "    #total_votes = int(input(\"What is the total votes in the election? \"))\n",
    "    #Calculate the percentage of votes you received.\n",
    "    #Percentage_votes = (my_votes / total_votes) * 100\n",
    "    #Print(\"I received \" + str(percentage_votes)+\"% of the total votes.\")\n",
    "    #3.2.9 Apply Membership and local operators to decision statements\n",
    "    #Deleverable operators == < > =\n",
    "        #Could also use if-else statement\n",
    "            #if condition:\n",
    "                #  statement 1\n",
    "                #  statement 2\n",
    "            #else:\n",
    "                #   statement 1\n",
    "                #   statement 2\n",
    "\n",
    "    # Save the final candidate vote count to the text file.\n",
    "    for candidate_name in candidate_votes:\n",
    "\n",
    "        # Retrieve vote count and percentage\n",
    "        votes = candidate_votes.get(candidate_name)\n",
    "        vote_percentage = float(votes) / float(total_votes) * 100\n",
    "        candidate_results = (\n",
    "            f\"{candidate_name}: {vote_percentage:.1f}% ({votes:,})\\n\")\n",
    "\n",
    "        # Print each candidate's voter count and percentage to the\n",
    "        # terminal.\n",
    "        print(candidate_results)\n",
    "        #  Save the candidate results to our text file.\n",
    "        txt_file.write(candidate_results)\n",
    "\n",
    "        # Determine winning vote count, winning percentage, and candidate.\n",
    "        if (votes > winning_count) and (vote_percentage > winning_percentage):\n",
    "            winning_count = votes\n",
    "            winning_candidate = candidate_name\n",
    "            winning_percentage = vote_percentage\n",
    "\n",
    "    # Print the winning candidate (to terminal)\n",
    "    winning_candidate_summary = (\n",
    "        f\"-------------------------\\n\"\n",
    "        f\"Winner: {winning_candidate}\\n\"\n",
    "        f\"Winning Vote Count: {winning_count:,}\\n\"\n",
    "        f\"Winning Percentage: {winning_percentage:.1f}%\\n\"\n",
    "        f\"-------------------------\\n\")\n",
    "    print(winning_candidate_summary)\n",
    "\n",
    "    # Save the winning candidate's name to the text file\n",
    "    txt_file.write(winning_candidate_summary)\n",
    "    \n",
    "    "
   ]
  }
 ],
 "metadata": {
  "kernelspec": {
   "display_name": "PythonData",
   "language": "python",
   "name": "pythondata"
  },
  "language_info": {
   "codemirror_mode": {
    "name": "ipython",
    "version": 3
   },
   "file_extension": ".py",
   "mimetype": "text/x-python",
   "name": "python",
   "nbconvert_exporter": "python",
   "pygments_lexer": "ipython3",
   "version": "3.7.10"
  }
 },
 "nbformat": 4,
 "nbformat_minor": 5
}
